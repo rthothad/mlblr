{
 "cells": [
  {
   "cell_type": "code",
   "execution_count": 116,
   "metadata": {},
   "outputs": [
    {
     "name": "stdout",
     "output_type": "stream",
     "text": [
      "Shape of X is  (3, 4)\n",
      "Shape of y is  (3, 1)\n",
      "Shape of w_one is  (4, 3)\n",
      "Shape of b_one is  (1, 3)\n",
      "Shape of w_two is  (3, 1)\n",
      "Shape of b_two is  (1, 1)\n",
      "Contents of array X is   [[0.95 0.54 0.23 0.49]\n",
      " [0.65 0.83 0.55 0.24]\n",
      " [0.63 0.47 0.94 0.63]]\n",
      "Contents of array y is   [[1]\n",
      " [1]\n",
      " [0]]\n",
      "Contents of w_one is  [[0.98 0.61 0.77]\n",
      " [0.62 0.1  0.94]\n",
      " [0.31 0.74 0.38]\n",
      " [0.97 0.29 0.92]]\n",
      "Contents of b_one is  [[0.4  0.57 0.48]]\n",
      "Contents of w_two is  [[0.18]\n",
      " [0.54]\n",
      " [0.12]]\n",
      "Contents of b_two is  [[0.54]]\n"
     ]
    }
   ],
   "source": [
    "# Initialize arrays X, y, weights at both layers and bias at both layers\n",
    "import numpy as np\n",
    "# X = np.array([(1, 0, 1,0), (1, 0, 1,1), (0, 1, 0, 1),])\n",
    "X = np.round(np.random.random((3, 4)), 2)\n",
    "\n",
    "y = np.array ([(1,), (1,), (0,)])\n",
    "\n",
    "# Initialize weights and bias\n",
    "# w_one = np.array([(0.42, 0.88, 0.55), (0.10, 0.73, 0.68), (0.60, 0.18, 0.47), (0.92, 0.11, 0.52)])\n",
    "# b_one = np.array([(0.46, 0.72, 0.08)])\n",
    "\n",
    "# w_two = np.array([(0.30,), (0.25,), (0.23,)])\n",
    "# b_two = np.array([(0.69,)])\n",
    "\n",
    "w_one = np.round(np.random.random((4, 3)), 2)\n",
    "b_one = np.round(np.random.random((1, 3)), 2)\n",
    "\n",
    "w_two = np.round(np.random.random((3, 1)), 2)\n",
    "b_two = np.round(np.random.random((1, 1)), 2)\n",
    "\n",
    "print ('Shape of X is ', X.shape)\n",
    "print ('Shape of y is ', y.shape)\n",
    "print('Shape of w_one is ', w_one.shape)\n",
    "print('Shape of b_one is ', b_one.shape)\n",
    "print('Shape of w_two is ', w_two.shape)\n",
    "print('Shape of b_two is ', b_two.shape)\n",
    "\n",
    "print ('Contents of array X is  ', X)\n",
    "print ('Contents of array y is  ', y)\n",
    "print ('Contents of w_one is ', w_one)\n",
    "print ('Contents of b_one is ', b_one)\n",
    "print ('Contents of w_two is ', w_two)\n",
    "print ('Contents of b_two is ', b_two)"
   ]
  },
  {
   "cell_type": "code",
   "execution_count": 121,
   "metadata": {},
   "outputs": [
    {
     "name": "stdout",
     "output_type": "stream",
     "text": [
      "Hidden layer input is  [[2.2124 1.5158 2.2573]\n",
      " [1.9549 1.5261 2.1905]\n",
      " [2.2113 1.8796 2.3437]]\n"
     ]
    }
   ],
   "source": [
    "#Calculate hidden layer input\n",
    "z_one = np.dot(X, w_one) + b_one\n",
    "print ('Hidden layer input is ', z_one)"
   ]
  },
  {
   "cell_type": "code",
   "execution_count": 122,
   "metadata": {},
   "outputs": [],
   "source": [
    "#define sigmoid function that will be used to calculate activations\n",
    "def sigmoid(z):\n",
    "    a = 1/(1+np.exp(-z))\n",
    "    return (np.round(a, 2))"
   ]
  },
  {
   "cell_type": "code",
   "execution_count": 123,
   "metadata": {},
   "outputs": [
    {
     "name": "stdout",
     "output_type": "stream",
     "text": [
      "Hidden layer activations are  [[0.9  0.82 0.91]\n",
      " [0.88 0.82 0.9 ]\n",
      " [0.9  0.87 0.91]]\n"
     ]
    }
   ],
   "source": [
    "#Calculate hidden layer activations\n",
    "a_one = sigmoid(z_one)\n",
    "print('Hidden layer activations are ', a_one)"
   ]
  },
  {
   "cell_type": "code",
   "execution_count": 124,
   "metadata": {},
   "outputs": [
    {
     "name": "stdout",
     "output_type": "stream",
     "text": [
      "Output layer activations are  [[0.78]\n",
      " [0.78]\n",
      " [0.78]]\n"
     ]
    }
   ],
   "source": [
    "#Calculate output layer's input and activations\n",
    "z_two = np.dot(a_one, w_two) + b_two\n",
    "a_two = sigmoid(z_two)\n",
    "print ('Output layer activations are ', a_two)"
   ]
  },
  {
   "cell_type": "code",
   "execution_count": 125,
   "metadata": {},
   "outputs": [
    {
     "name": "stdout",
     "output_type": "stream",
     "text": [
      "Error at the output layer is  [[ 0.22]\n",
      " [ 0.22]\n",
      " [-0.78]]\n"
     ]
    }
   ],
   "source": [
    "# Calculate error at output layer\n",
    "error_two = y - a_two\n",
    "print ('Error at the output layer is ', error_two)"
   ]
  },
  {
   "cell_type": "code",
   "execution_count": 126,
   "metadata": {},
   "outputs": [],
   "source": [
    "# define the derivative function for sigmoid\n",
    "def derivative_sigmoid(a):\n",
    "    da = a * (1 - a)\n",
    "    return (np.round(da, 2))"
   ]
  },
  {
   "cell_type": "code",
   "execution_count": 127,
   "metadata": {},
   "outputs": [
    {
     "name": "stdout",
     "output_type": "stream",
     "text": [
      "Slope of output is [[0.17]\n",
      " [0.17]\n",
      " [0.17]]\n",
      "Slope of hidden layer is [[0.09 0.15 0.08]\n",
      " [0.11 0.15 0.09]\n",
      " [0.09 0.11 0.08]]\n"
     ]
    }
   ],
   "source": [
    "# Compute slope at output and hidden layer\n",
    "da_two = derivative_sigmoid(a_two)\n",
    "print ('Slope of output is', da_two)\n",
    "\n",
    "da_one = derivative_sigmoid(a_one)\n",
    "print ('Slope of hidden layer is', da_one)"
   ]
  },
  {
   "cell_type": "code",
   "execution_count": 128,
   "metadata": {},
   "outputs": [
    {
     "name": "stdout",
     "output_type": "stream",
     "text": [
      "Delta output is  [[ 0.04]\n",
      " [ 0.04]\n",
      " [-0.13]]\n"
     ]
    }
   ],
   "source": [
    "# Calculate d_output\n",
    "d_two = np.round(np.multiply(error_two, da_two), 2)\n",
    "print ('Delta output is ', d_two)"
   ]
  },
  {
   "cell_type": "code",
   "execution_count": 129,
   "metadata": {},
   "outputs": [
    {
     "name": "stdout",
     "output_type": "stream",
     "text": [
      "Error at hidden layer is  [[ 0.007  0.022  0.005]\n",
      " [ 0.007  0.022  0.005]\n",
      " [-0.023 -0.07  -0.016]]\n"
     ]
    }
   ],
   "source": [
    "# Error at hidden layer\n",
    "error_one = np.round(np.dot(d_two, w_two.T), 3)\n",
    "print ('Error at hidden layer is ', error_one)"
   ]
  },
  {
   "cell_type": "code",
   "execution_count": 130,
   "metadata": {},
   "outputs": [
    {
     "name": "stdout",
     "output_type": "stream",
     "text": [
      "Delta at hidden layer is  [[ 0.001  0.003  0.   ]\n",
      " [ 0.001  0.003  0.   ]\n",
      " [-0.002 -0.008 -0.001]]\n"
     ]
    }
   ],
   "source": [
    "# Compute delta at hidden layer\n",
    "d_one = np.round(np.multiply(error_one, da_one), 3)\n",
    "print ('Delta at hidden layer is ', d_one)"
   ]
  },
  {
   "cell_type": "code",
   "execution_count": 131,
   "metadata": {},
   "outputs": [
    {
     "name": "stdout",
     "output_type": "stream",
     "text": [
      "Updated weights at the output layer is  [[0.1754]\n",
      " [0.5352]\n",
      " [0.1154]]\n",
      "Updated weights at the hidden layer is  [[0.98   0.61   0.7699]\n",
      " [0.62   0.1    0.94  ]\n",
      " [0.3099 0.7395 0.3799]\n",
      " [0.9699 0.2897 0.9199]]\n"
     ]
    }
   ],
   "source": [
    "# Update weight at both output and hidden layer\n",
    "learning_rate = 0.1\n",
    "w_two = w_two + np.dot(a_one.T, d_two) * learning_rate\n",
    "w_two = np.round(w_two, 4)\n",
    "w_one = w_one + np.dot(X.T, d_one) * learning_rate\n",
    "w_one = np.round(w_one, 4)\n",
    "\n",
    "print ('Updated weights at the output layer is ', w_two)\n",
    "print ('Updated weights at the hidden layer is ', w_one)"
   ]
  },
  {
   "cell_type": "code",
   "execution_count": 132,
   "metadata": {},
   "outputs": [
    {
     "name": "stdout",
     "output_type": "stream",
     "text": [
      "Updated bias at the output layer is  [[0.4    0.5698 0.4799]]\n",
      "Updated bias at the hidden layer is  [[0.535]]\n"
     ]
    }
   ],
   "source": [
    "# Update biases at both output and hidden layer\n",
    "b_one = b_one + np.sum(d_one, axis=0) * learning_rate\n",
    "b_two = b_two + np.sum(d_two, axis=0) * learning_rate\n",
    "\n",
    "print ('Updated bias at the output layer is ', b_one)\n",
    "print ('Updated bias at the hidden layer is ', b_two)"
   ]
  },
  {
   "cell_type": "code",
   "execution_count": null,
   "metadata": {},
   "outputs": [],
   "source": []
  }
 ],
 "metadata": {
  "kernelspec": {
   "display_name": "Python 3",
   "language": "python",
   "name": "python3"
  },
  "language_info": {
   "codemirror_mode": {
    "name": "ipython",
    "version": 3
   },
   "file_extension": ".py",
   "mimetype": "text/x-python",
   "name": "python",
   "nbconvert_exporter": "python",
   "pygments_lexer": "ipython3",
   "version": "3.6.4"
  }
 },
 "nbformat": 4,
 "nbformat_minor": 2
}
